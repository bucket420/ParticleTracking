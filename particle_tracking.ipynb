{
 "cells": [
  {
   "cell_type": "code",
   "execution_count": 1,
   "metadata": {},
   "outputs": [],
   "source": [
    "%matplotlib inline\n",
    "import cv2 as cv\n",
    "import time\n",
    "import numpy as np\n",
    "import os\n",
    "# from pascal_voc_writer import Writer\n",
    "import skimage\n",
    "import matplotlib.pyplot as plt\n",
    "import matplotlib\n",
    "import math\n"
   ]
  },
  {
   "cell_type": "code",
   "execution_count": 4,
   "metadata": {},
   "outputs": [],
   "source": [
    "def extract_frames(path, start_frame=0, stop_frame=0, invert=True, apply_func=None, step=1, *args, **kwargs):\n",
    "    video = cv.VideoCapture(path)\n",
    "    num_frames = int(video.get(cv.CAP_PROP_FRAME_COUNT))\n",
    "    if stop_frame == 0:\n",
    "        stop_frame = num_frames\n",
    "    frames = [None] * num_frames\n",
    "    for i in range(start_frame, stop_frame):\n",
    "        _, frame = video.read()\n",
    "        # frame = to_8bit(frame)\n",
    "        if invert: frame = invert_color(frame)\n",
    "        if i % step == 0 and callable(apply_func):\n",
    "            apply_func(path, frame, i, *args, **kwargs)\n",
    "        frames[i] = frame\n",
    "    video.release()\n",
    "    return frames\n",
    "\n",
    "def play(frames, stop_key=\" \"):\n",
    "    for frame in frames:\n",
    "        cv.imshow('Example', frame)\n",
    "        if cv.waitKey(20) & 0xFF==ord(stop_key):\n",
    "            break\n",
    "    cv.destroyAllWindows()\n",
    "    \n",
    "def invert_color(frame):\n",
    "    return skimage.util.invert(frame)"
   ]
  },
  {
   "cell_type": "code",
   "execution_count": 5,
   "metadata": {},
   "outputs": [],
   "source": [
    "def save_frame(path_to_video, frame, i, target_dir=\"\"):\n",
    "    video_name = path_to_video.split(\"/\")[-1]\n",
    "    img_name = video_name.split(\".\")[0] + str(i) + \".png\"\n",
    "    img_path = target_dir + \"/\" + img_name\n",
    "    cv.imwrite(img_path, frame)"
   ]
  },
  {
   "cell_type": "code",
   "execution_count": 23,
   "metadata": {},
   "outputs": [],
   "source": [
    "def videos_to_images(video_folder):\n",
    "    for video in os.listdir(video_folder):\n",
    "        if video.endswith(\".avi\"):\n",
    "            img_folder = video_folder + video.split(\".\")[0]\n",
    "            if not os.path.exists(img_folder):    \n",
    "                os.mkdir(img_folder)\n",
    "            path_to_video = video_folder + video\n",
    "            print(path_to_video)\n",
    "            extract_frames(path_to_video, 0, 0, True, save_frame, 1, target_dir=img_folder)\n"
   ]
  },
  {
   "cell_type": "code",
   "execution_count": 24,
   "metadata": {},
   "outputs": [
    {
     "name": "stdout",
     "output_type": "stream",
     "text": [
      "./test_data/videos//010Hz-01.avi\n",
      "./test_data/videos//010Hz-02.avi\n",
      "./test_data/videos//010Hz-03.avi\n",
      "./test_data/videos//010Hz-04.avi\n",
      "./test_data/videos//010Hz-05.avi\n",
      "./test_data/videos//01hz left.avi\n",
      "./test_data/videos//01hz right.avi\n",
      "./test_data/videos//020Hz-01.avi\n",
      "./test_data/videos//02hz left.avi\n",
      "./test_data/videos//02hz right.avi\n",
      "./test_data/videos//03hz left.avi\n",
      "./test_data/videos//03hz right.avi\n",
      "./test_data/videos//04hz left.avi\n",
      "./test_data/videos//04hz right.avi\n",
      "./test_data/videos//05hz left.avi\n",
      "./test_data/videos//05hz right.avi\n",
      "./test_data/videos//06hz left.avi\n",
      "./test_data/videos//06hz right.avi\n",
      "./test_data/videos//07hz left.avi\n",
      "./test_data/videos//07hz right.avi\n",
      "./test_data/videos//08hz left.avi\n",
      "./test_data/videos//08hz right.avi\n",
      "./test_data/videos//09hz left.avi\n",
      "./test_data/videos//09hz right.avi\n",
      "./test_data/videos//10hz left.avi\n",
      "./test_data/videos//10hz right.avi\n",
      "./test_data/videos//11hz left.avi\n",
      "./test_data/videos//11hz right.avi\n",
      "./test_data/videos//12hz left.avi\n",
      "./test_data/videos//12hz right.avi\n",
      "./test_data/videos//13hz left.avi\n",
      "./test_data/videos//13hz right.avi\n",
      "./test_data/videos//14hz left.avi\n",
      "./test_data/videos//14hz right.avi\n",
      "./test_data/videos//15hz left.avi\n",
      "./test_data/videos//15hz right.avi\n"
     ]
    }
   ],
   "source": [
    "videos_to_images(\"./test_data/videos/\")"
   ]
  },
  {
   "cell_type": "code",
   "execution_count": 7,
   "metadata": {},
   "outputs": [],
   "source": [
    "def display(img):\n",
    "    fig, ax = plt.subplots()\n",
    "    fig.tight_layout()\n",
    "    ax.imshow(img, cmap='gray')"
   ]
  },
  {
   "cell_type": "code",
   "execution_count": 8,
   "metadata": {},
   "outputs": [],
   "source": [
    "def read(path):\n",
    "    img = cv.imread(path)\n",
    "    return img"
   ]
  },
  {
   "cell_type": "code",
   "execution_count": null,
   "metadata": {},
   "outputs": [],
   "source": []
  },
  {
   "cell_type": "code",
   "execution_count": null,
   "metadata": {},
   "outputs": [],
   "source": []
  }
 ],
 "metadata": {
  "kernelspec": {
   "display_name": "ml",
   "language": "python",
   "name": "python3"
  },
  "language_info": {
   "codemirror_mode": {
    "name": "ipython",
    "version": 3
   },
   "file_extension": ".py",
   "mimetype": "text/x-python",
   "name": "python",
   "nbconvert_exporter": "python",
   "pygments_lexer": "ipython3",
   "version": "3.10.9"
  },
  "orig_nbformat": 4,
  "vscode": {
   "interpreter": {
    "hash": "fd47821a561b6afd385678fa5a64c513739c456475a70c8411f90c36fdc84b13"
   }
  }
 },
 "nbformat": 4,
 "nbformat_minor": 2
}
