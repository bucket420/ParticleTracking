{
 "cells": [
  {
   "cell_type": "code",
   "execution_count": 1,
   "metadata": {},
   "outputs": [],
   "source": [
    "import cv2 as cv\n",
    "import time\n",
    "import numpy as np"
   ]
  },
  {
   "cell_type": "code",
   "execution_count": 2,
   "metadata": {},
   "outputs": [
    {
     "data": {
      "text/plain": [
       "'4.6.0'"
      ]
     },
     "execution_count": 2,
     "metadata": {},
     "output_type": "execute_result"
    }
   ],
   "source": [
    "cv.__version__"
   ]
  },
  {
   "cell_type": "code",
   "execution_count": null,
   "metadata": {},
   "outputs": [],
   "source": [
    "def extract_frames(path):\n",
    "    video = cv.VideoCapture(path)\n",
    "    num_rames = int(video.get(cv.CAP_PROP_FRAME_COUNT))\n",
    "    frames = [None] * num_rames\n",
    "    for i in range(num_rames):\n",
    "        _, frame = video.read()\n",
    "        frames[i] = frame\n",
    "    video.release()\n",
    "    return frames\n",
    "\n",
    "def play(frames, stop_key=\" \"):\n",
    "    for frame in frames:\n",
    "        cv.imshow('Example', frame)\n",
    "        if cv.waitKey(20) & 0xFF==ord(stop_key):\n",
    "            break\n",
    "    cv.destroyAllWindows()"
   ]
  },
  {
   "cell_type": "code",
   "execution_count": 4,
   "metadata": {},
   "outputs": [],
   "source": [
    "video = cv.VideoCapture('./Examples/20200730/025Hz-01.avi')\n",
    "nFrames = int(video.get(cv.CAP_PROP_FRAME_COUNT))\n",
    "frames = [None] * nFrames\n",
    "for i in range(nFrames):\n",
    "    hasFrame, frame = video.read()\n",
    "    frames[i] = frame\n",
    "\n",
    "video.release()\n",
    "\n",
    "for frame in frames:\n",
    "    cv.imshow('Example', frame)\n",
    "    if cv.waitKey(20) & 0xFF==ord(' '):\n",
    "        break\n",
    "    \n",
    "cv.destroyAllWindows()\n"
   ]
  },
  {
   "cell_type": "code",
   "execution_count": 10,
   "metadata": {},
   "outputs": [
    {
     "data": {
      "text/plain": [
       "1602.0"
      ]
     },
     "execution_count": 10,
     "metadata": {},
     "output_type": "execute_result"
    }
   ],
   "source": []
  },
  {
   "cell_type": "code",
   "execution_count": null,
   "metadata": {},
   "outputs": [],
   "source": []
  }
 ],
 "metadata": {
  "kernelspec": {
   "display_name": "Python 3.10.8 ('magnetlab')",
   "language": "python",
   "name": "python3"
  },
  "language_info": {
   "codemirror_mode": {
    "name": "ipython",
    "version": 3
   },
   "file_extension": ".py",
   "mimetype": "text/x-python",
   "name": "python",
   "nbconvert_exporter": "python",
   "pygments_lexer": "ipython3",
   "version": "3.10.8"
  },
  "orig_nbformat": 4,
  "vscode": {
   "interpreter": {
    "hash": "d25b21b29f315e8c8ea4183fb80d9cbcb50a6dd629d39a170f556a67119ce3d6"
   }
  }
 },
 "nbformat": 4,
 "nbformat_minor": 2
}
